{
 "cells": [
  {
   "cell_type": "code",
   "execution_count": 1,
   "id": "d0cedef8",
   "metadata": {},
   "outputs": [
    {
     "name": "stdout",
     "output_type": "stream",
     "text": [
      "Starting point: -1.2621161199388808\n",
      "Best point (maximum): 2.03788388006112\n",
      "Function value at best point: 3.998564811631515\n"
     ]
    }
   ],
   "source": [
    "import random\n",
    "\n",
    "\n",
    "def f(x):\n",
    "    return -x**2 + 4*x\n",
    "\n",
    "\n",
    "def hill_climbing(starting_point, step_size=0.1, max_iterations=1000):\n",
    "    current_point = starting_point\n",
    "    current_value = f(current_point)\n",
    "    \n",
    "    for _ in range(max_iterations):\n",
    "        neighbor_left = current_point - step_size\n",
    "        neighbor_right = current_point + step_size\n",
    "        \n",
    "        left_value = f(neighbor_left)\n",
    "        right_value = f(neighbor_right)\n",
    "        \n",
    "        if left_value > current_value:\n",
    "            current_point = neighbor_left\n",
    "            current_value = left_value\n",
    "        elif right_value > current_value:\n",
    "            current_point = neighbor_right\n",
    "            current_value = right_value\n",
    "        else:\n",
    "            break\n",
    "    \n",
    "    return current_point, current_value\n",
    "\n",
    "\n",
    "starting_point = random.uniform(-10, 10)\n",
    "\n",
    "best_point, best_value = hill_climbing(starting_point)\n",
    "\n",
    "print(f\"Starting point: {starting_point}\")\n",
    "print(f\"Best point (maximum): {best_point}\")\n",
    "print(f\"Function value at best point: {best_value}\")\n",
    "\n",
    "\n",
    "\n"
   ]
  },
  {
   "cell_type": "code",
   "execution_count": null,
   "id": "9d674d02",
   "metadata": {},
   "outputs": [],
   "source": []
  }
 ],
 "metadata": {
  "kernelspec": {
   "display_name": "Python 3 (ipykernel)",
   "language": "python",
   "name": "python3"
  },
  "language_info": {
   "codemirror_mode": {
    "name": "ipython",
    "version": 3
   },
   "file_extension": ".py",
   "mimetype": "text/x-python",
   "name": "python",
   "nbconvert_exporter": "python",
   "pygments_lexer": "ipython3",
   "version": "3.10.12"
  }
 },
 "nbformat": 4,
 "nbformat_minor": 5
}
