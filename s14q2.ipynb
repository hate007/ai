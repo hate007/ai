{
 "cells": [
  {
   "cell_type": "code",
   "execution_count": 1,
   "id": "3756a2ea",
   "metadata": {},
   "outputs": [
    {
     "name": "stdout",
     "output_type": "stream",
     "text": [
      "Enter the size of the board (n): 10\n",
      "Q . . . . . . . . .\n",
      ". . . . . . . Q . .\n",
      ". Q . . . . . . . .\n",
      ". . . . . . . . Q .\n",
      ". . . . . Q . . . .\n",
      ". . Q . . . . . . .\n",
      ". . . . . . . . . Q\n",
      ". . . Q . . . . . .\n",
      ". . . . . . Q . . .\n",
      ". . . . Q . . . . .\n"
     ]
    }
   ],
   "source": [
    "def is_safe(board, row, col, n):\n",
    "    for i in range(col):\n",
    "        if board[row][i] == 1:\n",
    "            return False\n",
    "    for i, j in zip(range(row, -1, -1), range(col, -1, -1)):\n",
    "        if board[i][j] == 1:\n",
    "            return False\n",
    "    for i, j in zip(range(row, n, 1), range(col, -1, -1)):\n",
    "        if board[i][j] == 1:\n",
    "            return False\n",
    "    return True\n",
    "\n",
    "def solve(board, col, n):\n",
    "    if col >= n:\n",
    "        return True\n",
    "    for row in range(n):\n",
    "        if is_safe(board, row, col, n):\n",
    "            board[row][col] = 1\n",
    "            if solve(board, col + 1, n):\n",
    "                return True\n",
    "            board[row][col] = 0\n",
    "    return False\n",
    "\n",
    "def print_board(board, n):\n",
    "    for row in board:\n",
    "        print(\" \".join(\"Q\" if x else \".\" for x in row))\n",
    "\n",
    "def solve_n_queens(n):\n",
    "    board = [[0 for _ in range(n)] for _ in range(n)]\n",
    "    if solve(board, 0, n):\n",
    "        print_board(board, n)\n",
    "    else:\n",
    "        print(\"No solution\")\n",
    "\n",
    "n = int(input(\"Enter the size of the board (n): \"))\n",
    "solve_n_queens(n)\n"
   ]
  },
  {
   "cell_type": "code",
   "execution_count": null,
   "id": "75750122",
   "metadata": {},
   "outputs": [],
   "source": []
  }
 ],
 "metadata": {
  "kernelspec": {
   "display_name": "Python 3 (ipykernel)",
   "language": "python",
   "name": "python3"
  },
  "language_info": {
   "codemirror_mode": {
    "name": "ipython",
    "version": 3
   },
   "file_extension": ".py",
   "mimetype": "text/x-python",
   "name": "python",
   "nbconvert_exporter": "python",
   "pygments_lexer": "ipython3",
   "version": "3.10.12"
  }
 },
 "nbformat": 4,
 "nbformat_minor": 5
}
