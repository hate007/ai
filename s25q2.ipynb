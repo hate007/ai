{
 "cells": [
  {
   "cell_type": "code",
   "execution_count": 1,
   "id": "9f7de16d",
   "metadata": {},
   "outputs": [
    {
     "name": "stdout",
     "output_type": "stream",
     "text": [
      "[1, 2, 3]\n",
      "[4, 5, 0]\n",
      "[7, 8, 6]\n",
      "\n",
      "[1, 2, 3]\n",
      "[4, 5, 6]\n",
      "[7, 8, 0]\n",
      "\n"
     ]
    }
   ],
   "source": [
    "import heapq\n",
    "\n",
    "goal = [[1, 2, 3], [4, 5, 6], [7, 8, 0]]\n",
    "\n",
    "def get_blank_pos(board):\n",
    "    for i in range(3):\n",
    "        for j in range(3):\n",
    "            if board[i][j] == 0:\n",
    "                return i, j\n",
    "\n",
    "def manhattan_distance(board):\n",
    "    dist = 0\n",
    "    for i in range(3):\n",
    "        for j in range(3):\n",
    "            val = board[i][j]\n",
    "            if val != 0:\n",
    "                target_x, target_y = (val - 1) // 3, (val - 1) % 3\n",
    "                dist += abs(i - target_x) + abs(j - target_y)\n",
    "    return dist\n",
    "\n",
    "def get_neighbors(board):\n",
    "    neighbors = []\n",
    "    x, y = get_blank_pos(board)\n",
    "    directions = [(-1, 0), (1, 0), (0, -1), (0, 1)]\n",
    "    for dx, dy in directions:\n",
    "        nx, ny = x + dx, y + dy\n",
    "        if 0 <= nx < 3 and 0 <= ny < 3:\n",
    "            new_board = [row[:] for row in board]\n",
    "            new_board[x][y], new_board[nx][ny] = new_board[nx][ny], new_board[x][y]\n",
    "            neighbors.append(new_board)\n",
    "    return neighbors\n",
    "\n",
    "def solve_puzzle(start):\n",
    "    heap = []\n",
    "    heapq.heappush(heap, (manhattan_distance(start), 0, start, []))\n",
    "    visited = set()\n",
    "    visited.add(tuple(tuple(row) for row in start))\n",
    "    while heap:\n",
    "        _, g, current, path = heapq.heappop(heap)\n",
    "        if current == goal:\n",
    "            return path\n",
    "        for neighbor in get_neighbors(current):\n",
    "            t = tuple(tuple(row) for row in neighbor)\n",
    "            if t not in visited:\n",
    "                visited.add(t)\n",
    "                heapq.heappush(heap, (g + 1 + manhattan_distance(neighbor), g + 1, neighbor, path + [neighbor]))\n",
    "    return None\n",
    "\n",
    "start = [[1, 2, 3], [4, 0, 5], [7, 8, 6]]\n",
    "solution = solve_puzzle(start)\n",
    "\n",
    "if solution:\n",
    "    for step in solution:\n",
    "        for row in step:\n",
    "            print(row)\n",
    "        print()\n",
    "else:\n",
    "    print(\"No solution\")\n"
   ]
  },
  {
   "cell_type": "code",
   "execution_count": null,
   "id": "3e27a0ea",
   "metadata": {},
   "outputs": [],
   "source": []
  }
 ],
 "metadata": {
  "kernelspec": {
   "display_name": "Python 3 (ipykernel)",
   "language": "python",
   "name": "python3"
  },
  "language_info": {
   "codemirror_mode": {
    "name": "ipython",
    "version": 3
   },
   "file_extension": ".py",
   "mimetype": "text/x-python",
   "name": "python",
   "nbconvert_exporter": "python",
   "pygments_lexer": "ipython3",
   "version": "3.10.12"
  }
 },
 "nbformat": 4,
 "nbformat_minor": 5
}
