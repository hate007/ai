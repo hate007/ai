{
 "cells": [
  {
   "cell_type": "code",
   "execution_count": 1,
   "id": "e2df8ecd",
   "metadata": {},
   "outputs": [
    {
     "name": "stdout",
     "output_type": "stream",
     "text": [
      "Path: [1, 2, 3, 5, 8]\n"
     ]
    }
   ],
   "source": [
    "from collections import deque\n",
    "\n",
    "graph = {\n",
    "    1: [2, 4],\n",
    "    2: [3],\n",
    "    3: [4,5 ,6],\n",
    "    4: [2],\n",
    "    5: [8, 7],\n",
    "    6: [8],\n",
    "    7: [8],\n",
    "    8: []\n",
    "}\n",
    "\n",
    "def bfs(graph, start, goal):\n",
    "    queue = deque([[start]])\n",
    "    visited = set()\n",
    "\n",
    "    while queue:\n",
    "        path = queue.popleft()\n",
    "        node = path[-1]\n",
    "        if node == goal:\n",
    "            return path\n",
    "        if node not in visited:\n",
    "            visited.add(node)\n",
    "            for neighbor in graph[node]:\n",
    "                queue.append(path + [neighbor])\n",
    "    return None\n",
    "\n",
    "path = bfs(graph, 1, 8)\n",
    "print(\"Path:\", path if path else \"No path found.\")\n"
   ]
  },
  {
   "cell_type": "code",
   "execution_count": null,
   "id": "cf4587a5",
   "metadata": {},
   "outputs": [],
   "source": []
  }
 ],
 "metadata": {
  "kernelspec": {
   "display_name": "Python 3 (ipykernel)",
   "language": "python",
   "name": "python3"
  },
  "language_info": {
   "codemirror_mode": {
    "name": "ipython",
    "version": 3
   },
   "file_extension": ".py",
   "mimetype": "text/x-python",
   "name": "python",
   "nbconvert_exporter": "python",
   "pygments_lexer": "ipython3",
   "version": "3.10.12"
  }
 },
 "nbformat": 4,
 "nbformat_minor": 5
}
