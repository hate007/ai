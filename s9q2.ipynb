{
 "cells": [
  {
   "cell_type": "code",
   "execution_count": 1,
   "id": "71e416d8",
   "metadata": {},
   "outputs": [
    {
     "name": "stdout",
     "output_type": "stream",
     "text": [
      "Jug1: 5 gallons, Jug2: 0 gallons\n",
      "Jug1: 0 gallons, Jug2: 7 gallons\n",
      "Jug1: 5 gallons, Jug2: 7 gallons\n",
      "Jug1: 0 gallons, Jug2: 5 gallons\n",
      "Jug1: 5 gallons, Jug2: 2 gallons\n",
      "Jug1: 5 gallons, Jug2: 5 gallons\n",
      "Jug1: 0 gallons, Jug2: 2 gallons\n",
      "Jug1: 3 gallons, Jug2: 7 gallons\n",
      "Jug1: 2 gallons, Jug2: 0 gallons\n",
      "Jug1: 3 gallons, Jug2: 0 gallons\n",
      "Jug1: 2 gallons, Jug2: 7 gallons\n",
      "Jug1: 0 gallons, Jug2: 3 gallons\n",
      "Jug1: 5 gallons, Jug2: 4 gallons\n",
      "Jug1: 5 gallons, Jug2: 3 gallons\n",
      "Target reached!\n",
      "Jug1: 5 gallons, Jug2: 4 gallons\n"
     ]
    }
   ],
   "source": [
    "from collections import deque\n",
    "\n",
    "\n",
    "def print_state(jug1, jug2):\n",
    "    print(f\"Jug1: {jug1} gallons, Jug2: {jug2} gallons\")\n",
    "\n",
    "\n",
    "def water_jug_bfs(capacity1, capacity2, target):\n",
    "    queue = deque([(0, 0)]) \n",
    "    visited = set()\n",
    "    visited.add((0, 0))\n",
    "\n",
    "    while queue:\n",
    "        jug1, jug2 = queue.popleft()\n",
    "\n",
    "        \n",
    "        if jug2 == target:\n",
    "            print(\"Target reached!\")\n",
    "            print_state(jug1, jug2)\n",
    "            return True\n",
    "\n",
    "        \n",
    "        possible_states = [\n",
    "            (capacity1, jug2),  # Fill Jug1\n",
    "            (jug1, capacity2),  # Fill Jug2\n",
    "            (0, jug2),  # Empty Jug1\n",
    "            (jug1, 0),  # Empty Jug2\n",
    "            (0, jug1 + jug2) if jug1 + jug2 <= capacity2 else (jug1 - (capacity2 - jug2), capacity2),  \n",
    "            (jug1 + jug2, 0) if jug1 + jug2 <= capacity1 else (capacity1, jug2 - (capacity1 - jug1))  \n",
    "        ]\n",
    "\n",
    "       \n",
    "        for new_jug1, new_jug2 in possible_states:\n",
    "            if (new_jug1, new_jug2) not in visited:\n",
    "                visited.add((new_jug1, new_jug2))\n",
    "                queue.append((new_jug1, new_jug2))\n",
    "                print_state(new_jug1, new_jug2)\n",
    "\n",
    "    print(\"No solution found!\")\n",
    "    return False\n",
    "\n",
    "\n",
    "def solve_water_jug_problem():\n",
    "   \n",
    "    capacity1 = 5  \n",
    "    capacity2 = 7  \n",
    "    target = 4  \n",
    "\n",
    "\n",
    "    if not water_jug_bfs(capacity1, capacity2, target):\n",
    "        print(\"Solution not possible!\")\n",
    "\n",
    "\n",
    "if __name__ == \"__main__\":\n",
    "    solve_water_jug_problem()\n"
   ]
  },
  {
   "cell_type": "code",
   "execution_count": null,
   "id": "2684a093",
   "metadata": {},
   "outputs": [],
   "source": []
  }
 ],
 "metadata": {
  "kernelspec": {
   "display_name": "Python 3 (ipykernel)",
   "language": "python",
   "name": "python3"
  },
  "language_info": {
   "codemirror_mode": {
    "name": "ipython",
    "version": 3
   },
   "file_extension": ".py",
   "mimetype": "text/x-python",
   "name": "python",
   "nbconvert_exporter": "python",
   "pygments_lexer": "ipython3",
   "version": "3.10.12"
  }
 },
 "nbformat": 4,
 "nbformat_minor": 5
}
