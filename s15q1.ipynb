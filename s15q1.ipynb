{
 "cells": [
  {
   "cell_type": "code",
   "execution_count": 2,
   "id": "83fc7a8a",
   "metadata": {},
   "outputs": [
    {
     "data": {
      "text/plain": [
       "6"
      ]
     },
     "execution_count": 2,
     "metadata": {},
     "output_type": "execute_result"
    }
   ],
   "source": [
    "class MonkeyBanana:\n",
    "    def __init__(self):\n",
    "        self.monkey_position = 0\n",
    "        self.banana_position = 5\n",
    "        self.banana_on_table = True\n",
    "        self.steps = 0\n",
    "\n",
    "    def move(self):\n",
    "        if self.monkey_position < self.banana_position:\n",
    "            self.monkey_position += 1\n",
    "            self.steps += 1\n",
    "\n",
    "    def grab_banana(self):\n",
    "        if self.monkey_position == self.banana_position and self.banana_on_table:\n",
    "            self.banana_on_table = False\n",
    "            self.steps += 1\n",
    "\n",
    "    def is_done(self):\n",
    "        return not self.banana_on_table\n",
    "\n",
    "    def solve(self):\n",
    "        while not self.is_done():\n",
    "            self.move()\n",
    "            self.grab_banana()\n",
    "        return self.steps\n",
    "\n",
    "problem = MonkeyBanana()\n",
    "problem.solve()\n"
   ]
  }
 ],
 "metadata": {
  "kernelspec": {
   "display_name": "Python 3 (ipykernel)",
   "language": "python",
   "name": "python3"
  },
  "language_info": {
   "codemirror_mode": {
    "name": "ipython",
    "version": 3
   },
   "file_extension": ".py",
   "mimetype": "text/x-python",
   "name": "python",
   "nbconvert_exporter": "python",
   "pygments_lexer": "ipython3",
   "version": "3.10.12"
  }
 },
 "nbformat": 4,
 "nbformat_minor": 5
}
