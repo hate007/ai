{
 "cells": [
  {
   "cell_type": "code",
   "execution_count": 1,
   "id": "c6af1bf8",
   "metadata": {},
   "outputs": [
    {
     "name": "stdout",
     "output_type": "stream",
     "text": [
      ". . Q .\n",
      "Q . . .\n",
      ". . . Q\n",
      ". Q . .\n"
     ]
    }
   ],
   "source": [
    "def is_safe(board, row, col):\n",
    "    for i in range(col):\n",
    "        if board[row][i] == 1:\n",
    "            return False\n",
    "    for i, j in zip(range(row, -1, -1), range(col, -1, -1)):\n",
    "        if board[i][j] == 1:\n",
    "            return False\n",
    "    for i, j in zip(range(row, len(board), 1), range(col, -1, -1)):\n",
    "        if board[i][j] == 1:\n",
    "            return False\n",
    "    return True\n",
    "\n",
    "def solve(board, col):\n",
    "    if col >= len(board):\n",
    "        return True\n",
    "    for i in range(len(board)):\n",
    "        if is_safe(board, i, col):\n",
    "            board[i][col] = 1\n",
    "            if solve(board, col + 1):\n",
    "                return True\n",
    "            board[i][col] = 0\n",
    "    return False\n",
    "\n",
    "def print_board(board):\n",
    "    for row in board:\n",
    "        print(\" \".join(\"Q\" if x else \".\" for x in row))\n",
    "\n",
    "def four_queens():\n",
    "    board = [[0 for _ in range(4)] for _ in range(4)]\n",
    "    if solve(board, 0):\n",
    "        print_board(board)\n",
    "    else:\n",
    "        print(\"Solution does not exist.\")\n",
    "\n",
    "four_queens()\n"
   ]
  },
  {
   "cell_type": "code",
   "execution_count": null,
   "id": "f93fddd4",
   "metadata": {},
   "outputs": [],
   "source": []
  }
 ],
 "metadata": {
  "kernelspec": {
   "display_name": "Python 3 (ipykernel)",
   "language": "python",
   "name": "python3"
  },
  "language_info": {
   "codemirror_mode": {
    "name": "ipython",
    "version": 3
   },
   "file_extension": ".py",
   "mimetype": "text/x-python",
   "name": "python",
   "nbconvert_exporter": "python",
   "pygments_lexer": "ipython3",
   "version": "3.10.12"
  }
 },
 "nbformat": 4,
 "nbformat_minor": 5
}
