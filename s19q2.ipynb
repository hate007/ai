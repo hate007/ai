{
 "cells": [
  {
   "cell_type": "code",
   "execution_count": 3,
   "id": "907337d0",
   "metadata": {},
   "outputs": [
    {
     "name": "stdout",
     "output_type": "stream",
     "text": [
      "Path found: A -> E -> D -> F\n"
     ]
    }
   ],
   "source": [
    "import heapq\n",
    "\n",
    "class Node:\n",
    "    def __init__(self, name, g, h, parent=None):\n",
    "        self.name = name\n",
    "        self.g = g\n",
    "        self.h = h\n",
    "        self.f = g + h\n",
    "        self.parent = parent\n",
    "\n",
    "    def __lt__(self, other):\n",
    "        return self.f < other.f\n",
    "\n",
    "def a_star(graph, heuristics, start, goal):\n",
    "    open_list = []\n",
    "    closed_list = set()\n",
    "    start_node = Node(start, 0, heuristics[start])\n",
    "    heapq.heappush(open_list, start_node)\n",
    "\n",
    "    while open_list:\n",
    "        current_node = heapq.heappop(open_list)\n",
    "\n",
    "        if current_node.name == goal:\n",
    "            path = []\n",
    "            while current_node:\n",
    "                path.append(current_node.name)\n",
    "                current_node = current_node.parent\n",
    "            return path[::-1]\n",
    "\n",
    "        closed_list.add(current_node.name)\n",
    "\n",
    "        for neighbor, weight in graph[current_node.name]:\n",
    "            if neighbor in closed_list:\n",
    "                continue\n",
    "\n",
    "            g = current_node.g + weight\n",
    "            h = heuristics.get(neighbor, 0)\n",
    "            neighbor_node = Node(neighbor, g, h, current_node)\n",
    "\n",
    "            if all(neighbor_node.f < node.f for node in open_list if node.name == neighbor):\n",
    "                heapq.heappush(open_list, neighbor_node)\n",
    "\n",
    "    return None\n",
    "\n",
    "graph = {\n",
    "    'A': [('B', 2),('E',3)],\n",
    "    'B': [('C', 1),('F',9)],\n",
    "    'C': [('E', 17), ('F', 12)],\n",
    "    'D': [('E', 6), ('F', 1)],\n",
    "    'E': [('D', 6)]\n",
    "}\n",
    "\n",
    "heuristics = {\n",
    "    'A': 11,\n",
    "    'B': 6,\n",
    "    'C': 99,\n",
    "    'D': 1,\n",
    "    'E': 7,\n",
    "    'F': 0\n",
    "}\n",
    "\n",
    "start = 'A'\n",
    "goal = 'F'\n",
    "path = a_star(graph, heuristics, start, goal)\n",
    "\n",
    "if path:\n",
    "    print(\"Path found:\", \" -> \".join(path))\n",
    "else:\n",
    "    print(\"No path found\")\n"
   ]
  },
  {
   "cell_type": "code",
   "execution_count": null,
   "id": "c5c51bdd",
   "metadata": {},
   "outputs": [],
   "source": []
  }
 ],
 "metadata": {
  "kernelspec": {
   "display_name": "Python 3 (ipykernel)",
   "language": "python",
   "name": "python3"
  },
  "language_info": {
   "codemirror_mode": {
    "name": "ipython",
    "version": 3
   },
   "file_extension": ".py",
   "mimetype": "text/x-python",
   "name": "python",
   "nbconvert_exporter": "python",
   "pygments_lexer": "ipython3",
   "version": "3.10.12"
  }
 },
 "nbformat": 4,
 "nbformat_minor": 5
}
