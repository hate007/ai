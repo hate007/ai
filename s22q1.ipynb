{
 "cells": [
  {
   "cell_type": "code",
   "execution_count": 2,
   "id": "e84c603f",
   "metadata": {},
   "outputs": [
    {
     "name": "stdout",
     "output_type": "stream",
     "text": [
      "Best value for the maximizing player:  4\n"
     ]
    }
   ],
   "source": [
    "import random\n",
    "\n",
    "def alpha_beta_pruning(node, depth, alpha, beta, maximizing_player):\n",
    "    if depth == 0 or is_terminal(node):\n",
    "        return evaluate(node)\n",
    "    \n",
    "    if maximizing_player:\n",
    "        max_eval = float('-inf')\n",
    "        for child in generate_children(node):\n",
    "            eval = alpha_beta_pruning(child, depth - 1, alpha, beta, False)\n",
    "            max_eval = max(max_eval, eval)\n",
    "            alpha = max(alpha, eval)\n",
    "            if beta <= alpha:\n",
    "                break\n",
    "        return max_eval\n",
    "    else:\n",
    "        min_eval = float('inf')\n",
    "        for child in generate_children(node):\n",
    "            eval = alpha_beta_pruning(child, depth - 1, alpha, beta, True)\n",
    "            min_eval = min(min_eval, eval)\n",
    "            beta = min(beta, eval)\n",
    "            if beta <= alpha:\n",
    "                break\n",
    "        return min_eval\n",
    "\n",
    "def is_terminal(node):\n",
    "    return False\n",
    "\n",
    "def evaluate(node):\n",
    "    return random.randint(-10, 10)\n",
    "\n",
    "def generate_children(node):\n",
    "    return [node]\n",
    "\n",
    "root_node = \"root\"\n",
    "depth = 3\n",
    "alpha = float('-inf')\n",
    "beta = float('inf')\n",
    "maximizing_player = True\n",
    "\n",
    "best_value = alpha_beta_pruning(root_node, depth, alpha, beta, maximizing_player)\n",
    "print(\"Best value for the maximizing player: \", best_value)\n"
   ]
  },
  {
   "cell_type": "code",
   "execution_count": null,
   "id": "b465f9b5",
   "metadata": {},
   "outputs": [],
   "source": []
  }
 ],
 "metadata": {
  "kernelspec": {
   "display_name": "Python 3 (ipykernel)",
   "language": "python",
   "name": "python3"
  },
  "language_info": {
   "codemirror_mode": {
    "name": "ipython",
    "version": 3
   },
   "file_extension": ".py",
   "mimetype": "text/x-python",
   "name": "python",
   "nbconvert_exporter": "python",
   "pygments_lexer": "ipython3",
   "version": "3.10.12"
  }
 },
 "nbformat": 4,
 "nbformat_minor": 5
}
