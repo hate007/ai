{
 "cells": [
  {
   "cell_type": "code",
   "execution_count": 4,
   "id": "8f3f7bb1",
   "metadata": {},
   "outputs": [
    {
     "name": "stdout",
     "output_type": "stream",
     "text": [
      "No solution found.\n"
     ]
    }
   ],
   "source": [
    "import heapq\n",
    "\n",
    "\n",
    "goal = ((1, 2, 3), (4, 5, 6), (7, 8, 0))\n",
    "\n",
    "\n",
    "def heuristic(state):\n",
    "    distance = 0\n",
    "    for r in range(3):\n",
    "        for c in range(3):\n",
    "            value = state[r][c]\n",
    "            if value != 0:\n",
    "                goal_r, goal_c = divmod(value - 1, 3)\n",
    "                distance += abs(r - goal_r) + abs(c - goal_c)\n",
    "    return distance\n",
    "\n",
    "\n",
    "def get_neighbors(state):\n",
    "    neighbors = []\n",
    "    zero_r, zero_c = next((r, c) for r in range(3) for c in range(3) if state[r][c] == 0)\n",
    "    moves = [(-1, 0), (1, 0), (0, -1), (0, 1)]  # Up, Down, Left, Right\n",
    "\n",
    "    for dr, dc in moves:\n",
    "        new_r, new_c = zero_r + dr, zero_c + dc\n",
    "        if 0 <= new_r < 3 and 0 <= new_c < 3:\n",
    "            new_state = [list(row) for row in state]  # Create a new list of lists\n",
    "            new_state[zero_r][zero_c], new_state[new_r][new_c] = new_state[new_r][new_c], new_state[zero_r][zero_c]\n",
    "            neighbors.append(tuple(tuple(row) for row in new_state))  # Convert back to tuple\n",
    "    return neighbors\n",
    "\n",
    "def a_star(start):\n",
    "    frontier = []\n",
    "    heapq.heappush(frontier, (0 + heuristic(start), 0, start, []))\n",
    "    explored = set()  # Set to keep track of explored states\n",
    "    \n",
    "    while frontier:\n",
    "        _, g, current, path = heapq.heappop(frontier)\n",
    "        \n",
    "       \n",
    "        if current == goal:\n",
    "            return path\n",
    "        \n",
    "        \n",
    "        if current not in explored:\n",
    "            explored.add(current)\n",
    "            \n",
    "            for neighbor in get_neighbors(current):\n",
    "                if neighbor not in explored:\n",
    "                    heapq.heappush(frontier, (g + 1 + heuristic(neighbor), g + 1, neighbor, path + [neighbor]))\n",
    "\n",
    "    return None \n",
    "\n",
    "\n",
    "def print_board(state):\n",
    "    for row in state:\n",
    "        print(\" \".join(str(x) for x in row))\n",
    "    print()\n",
    "\n",
    "\n",
    "start = ((1, 2, 3), (4, 5, 6), (7, 8, 0))\n",
    "\n",
    "\n",
    "solution = a_star(start)\n",
    "\n",
    "\n",
    "if solution:\n",
    "    print(\"Solution found:\")\n",
    "    for step in solution:\n",
    "        print_board(step)\n",
    "else:\n",
    "    print(\"No solution found.\")\n",
    "\n"
   ]
  },
  {
   "cell_type": "code",
   "execution_count": null,
   "id": "46ed8f5a",
   "metadata": {},
   "outputs": [],
   "source": []
  }
 ],
 "metadata": {
  "kernelspec": {
   "display_name": "Python 3 (ipykernel)",
   "language": "python",
   "name": "python3"
  },
  "language_info": {
   "codemirror_mode": {
    "name": "ipython",
    "version": 3
   },
   "file_extension": ".py",
   "mimetype": "text/x-python",
   "name": "python",
   "nbconvert_exporter": "python",
   "pygments_lexer": "ipython3",
   "version": "3.10.12"
  }
 },
 "nbformat": 4,
 "nbformat_minor": 5
}
