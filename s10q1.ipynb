{
 "cells": [
  {
   "cell_type": "code",
   "execution_count": 1,
   "id": "232eb8af",
   "metadata": {},
   "outputs": [
    {
     "name": "stdout",
     "output_type": "stream",
     "text": [
      "Solution found: \n",
      "T = 1, W = 3, O = 2, F = 0, U = 6, R = 4\n",
      "Equation: 132 + 132 = 264\n"
     ]
    }
   ],
   "source": [
    "from itertools import permutations\n",
    "\n",
    "\n",
    "def solve_cryptarithmetic():\n",
    "    letters = 'TWOFUR'  \n",
    "    digits = range(10)  \n",
    "    \n",
    "    for perm in permutations(digits, len(letters)):\n",
    "        mapping = dict(zip(letters, perm))\n",
    "\n",
    "        \n",
    "        T = mapping['T']\n",
    "        W = mapping['W']\n",
    "        O = mapping['O']\n",
    "        F = mapping['F']\n",
    "        U = mapping['U']\n",
    "        R = mapping['R']\n",
    "\n",
    "        \n",
    "        TWO = 100 * T + 10 * W + O\n",
    "        FOUR = 1000 * F + 100 * O + 10 * U + R\n",
    "\n",
    "      \n",
    "        if TWO + TWO == FOUR:\n",
    "            print(f\"Solution found: \")\n",
    "            print(f\"T = {T}, W = {W}, O = {O}, F = {F}, U = {U}, R = {R}\")\n",
    "            print(f\"Equation: {TWO} + {TWO} = {FOUR}\")\n",
    "            return\n",
    "\n",
    "    print(\"No solution found.\")\n",
    "\n",
    "\n",
    "solve_cryptarithmetic()\n"
   ]
  },
  {
   "cell_type": "code",
   "execution_count": null,
   "id": "7b0f56a1",
   "metadata": {},
   "outputs": [],
   "source": []
  }
 ],
 "metadata": {
  "kernelspec": {
   "display_name": "Python 3 (ipykernel)",
   "language": "python",
   "name": "python3"
  },
  "language_info": {
   "codemirror_mode": {
    "name": "ipython",
    "version": 3
   },
   "file_extension": ".py",
   "mimetype": "text/x-python",
   "name": "python",
   "nbconvert_exporter": "python",
   "pygments_lexer": "ipython3",
   "version": "3.10.12"
  }
 },
 "nbformat": 4,
 "nbformat_minor": 5
}
