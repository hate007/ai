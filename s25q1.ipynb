{
 "cells": [
  {
   "cell_type": "code",
   "execution_count": null,
   "id": "aa3cfda6",
   "metadata": {},
   "outputs": [
    {
     "name": "stdout",
     "output_type": "stream",
     "text": [
      "Ask me about your name, department, courses, timetable, or grades.\n"
     ]
    }
   ],
   "source": [
    "class CollegeBot:\n",
    "    def __init__(self, name, department, courses, timetable, grades):\n",
    "        self.info = {\n",
    "            \"name\": f\"My name is {name}.\",\n",
    "            \"department\": f\"I am in the {department} department.\",\n",
    "            \"courses\": f\"I am enrolled in: {', '.join(courses)}.\",\n",
    "            \"timetable\": f\"My timetable:\\n{timetable}\",\n",
    "            \"grades\": f\"My grades:\\n{grades}\"\n",
    "        }\n",
    "\n",
    "    def respond(self, query):\n",
    "        query = query.lower()\n",
    "        return self.info.get(query, \"Sorry, I don't understand that question.\")\n",
    "\n",
    "if __name__ == \"__main__\":\n",
    "    bot = CollegeBot(\n",
    "        \"John Doe\", \"Computer Science\", \n",
    "        [\"Data Structures\", \"Algorithms\", \"Database Systems\", \"Operating Systems\"],\n",
    "        \"Mon: 9 AM - Data Structures, Tue: 11 AM - Database Systems\",\n",
    "        \"Data Structures: A, Algorithms: B+, Database Systems: A-, Operating Systems: B\"\n",
    "    )\n",
    "\n",
    "    print(\"Ask me about your name, department, courses, timetable, or grades.\")\n",
    "    while True:\n",
    "        query = input(\"\\nAsk: \").lower()\n",
    "        if query in ['exit', 'quit', 'bye']: break\n",
    "        print(bot.respond(query))\n"
   ]
  },
  {
   "cell_type": "code",
   "execution_count": null,
   "id": "b39910eb",
   "metadata": {},
   "outputs": [],
   "source": []
  }
 ],
 "metadata": {
  "kernelspec": {
   "display_name": "Python 3 (ipykernel)",
   "language": "python",
   "name": "python3"
  },
  "language_info": {
   "codemirror_mode": {
    "name": "ipython",
    "version": 3
   },
   "file_extension": ".py",
   "mimetype": "text/x-python",
   "name": "python",
   "nbconvert_exporter": "python",
   "pygments_lexer": "ipython3",
   "version": "3.10.12"
  }
 },
 "nbformat": 4,
 "nbformat_minor": 5
}
