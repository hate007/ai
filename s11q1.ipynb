{
 "cells": [
  {
   "cell_type": "code",
   "execution_count": 1,
   "id": "f1ba5326",
   "metadata": {},
   "outputs": [
    {
     "name": "stdout",
     "output_type": "stream",
     "text": [
      "Operations to transform the string:\n",
      "Modify 's' to 's' at position 0\n",
      "Modify 'i' to 'i' at position 4\n",
      "Insert 'g' at position 6\n",
      "Final transformed string: kitten\n"
     ]
    }
   ],
   "source": [
    "def mean_end_analysis(start, goal):\n",
    "    operations = []  \n",
    "    \n",
    "  \n",
    "    while start != goal:\n",
    "        min_length = min(len(start), len(goal))\n",
    "        \n",
    "       \n",
    "        i = 0\n",
    "        while i < min_length and start[i] == goal[i]:\n",
    "            i += 1\n",
    "        \n",
    "        if i == len(start) and i == len(goal):\n",
    "            break  \n",
    "        \n",
    "        if i < len(start) and i < len(goal) and start[i] != goal[i]:\n",
    "            start = start[:i] + goal[i] + start[i+1:]\n",
    "            operations.append(f\"Modify '{start[i]}' to '{goal[i]}' at position {i}\")\n",
    "        elif i == len(start):\n",
    "            start += goal[i]\n",
    "            operations.append(f\"Insert '{goal[i]}' at position {i}\")\n",
    "        elif i == len(goal):\n",
    "            start = start[:i]\n",
    "            operations.append(f\"Delete '{start[i-1]}' from position {i-1}\")\n",
    "        \n",
    "    return operations\n",
    "\n",
    "start_string = \"kitten\"\n",
    "goal_string = \"sitting\"\n",
    "\n",
    "operations = mean_end_analysis(start_string, goal_string)\n",
    "\n",
    "\n",
    "print(\"Operations to transform the string:\")\n",
    "for operation in operations:\n",
    "    print(operation)\n",
    "\n",
    "print(f\"Final transformed string: {start_string}\")\n"
   ]
  },
  {
   "cell_type": "code",
   "execution_count": null,
   "id": "36369abf",
   "metadata": {},
   "outputs": [],
   "source": []
  }
 ],
 "metadata": {
  "kernelspec": {
   "display_name": "Python 3 (ipykernel)",
   "language": "python",
   "name": "python3"
  },
  "language_info": {
   "codemirror_mode": {
    "name": "ipython",
    "version": 3
   },
   "file_extension": ".py",
   "mimetype": "text/x-python",
   "name": "python",
   "nbconvert_exporter": "python",
   "pygments_lexer": "ipython3",
   "version": "3.10.12"
  }
 },
 "nbformat": 4,
 "nbformat_minor": 5
}
