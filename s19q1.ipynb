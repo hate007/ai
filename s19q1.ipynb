{
 "cells": [
  {
   "cell_type": "code",
   "execution_count": null,
   "id": "0339d383",
   "metadata": {},
   "outputs": [
    {
     "name": "stdout",
     "output_type": "stream",
     "text": [
      "_ _ _ _ _ _ _ _ _ _ _\n",
      "Attempts left: 6, Guess a letter: h\n",
      "Wrong guess! 5 attempts remaining.\n",
      "_ _ _ _ _ _ _ _ _ _ _\n",
      "Attempts left: 5, Guess a letter: p\n",
      "p _ _ _ _ _ _ _ _ _ _\n",
      "Attempts left: 5, Guess a letter: r\n",
      "p r _ _ r _ _ _ _ _ _\n",
      "Attempts left: 5, Guess a letter: o\n",
      "p r o _ r _ _ _ _ _ _\n",
      "Attempts left: 5, Guess a letter: g\n",
      "p r o g r _ _ _ _ _ g\n"
     ]
    }
   ],
   "source": [
    "import random\n",
    "\n",
    "def hangman():\n",
    "    word_list = ['python', 'java', 'hangman', 'programming', 'developer']\n",
    "    word = random.choice(word_list)\n",
    "    guessed = ['_'] * len(word)\n",
    "    attempts = 6\n",
    "    guessed_letters = set()\n",
    "\n",
    "    while attempts > 0 and ''.join(guessed) != word:\n",
    "        print(' '.join(guessed))\n",
    "        guess = input(f\"Attempts left: {attempts}, Guess a letter: \").lower()\n",
    "\n",
    "        if guess in guessed_letters:\n",
    "            print(\"You've already guessed that letter.\")\n",
    "            continue\n",
    "        guessed_letters.add(guess)\n",
    "\n",
    "        if guess in word:\n",
    "            for i in range(len(word)):\n",
    "                if word[i] == guess:\n",
    "                    guessed[i] = guess\n",
    "        else:\n",
    "            attempts -= 1\n",
    "            print(f\"Wrong guess! {attempts} attempts remaining.\")\n",
    "\n",
    "    if ''.join(guessed) == word:\n",
    "        print(f\"Congratulations! You've guessed the word: {word}\")\n",
    "    else:\n",
    "        print(f\"Game over! The word was: {word}\")\n",
    "\n",
    "hangman()\n"
   ]
  },
  {
   "cell_type": "code",
   "execution_count": null,
   "id": "955bcb00",
   "metadata": {},
   "outputs": [],
   "source": []
  }
 ],
 "metadata": {
  "kernelspec": {
   "display_name": "Python 3 (ipykernel)",
   "language": "python",
   "name": "python3"
  },
  "language_info": {
   "codemirror_mode": {
    "name": "ipython",
    "version": 3
   },
   "file_extension": ".py",
   "mimetype": "text/x-python",
   "name": "python",
   "nbconvert_exporter": "python",
   "pygments_lexer": "ipython3",
   "version": "3.10.12"
  }
 },
 "nbformat": 4,
 "nbformat_minor": 5
}
