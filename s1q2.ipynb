{
 "cells": [
  {
   "cell_type": "code",
   "execution_count": 5,
   "id": "eb408f2b",
   "metadata": {},
   "outputs": [
    {
     "name": "stdout",
     "output_type": "stream",
     "text": [
      "Path found: [1, 2, 4, 8]\n"
     ]
    }
   ],
   "source": [
    "\n",
    "graph = {\n",
    "    1: [2, 3],\n",
    "    2: [1, 4, 5],\n",
    "    3: [1, 6,7],\n",
    "    4: [2,8],\n",
    "    5: [2, 8],\n",
    "    6: [3,8],\n",
    "    7: [3,8],\n",
    "    8: [4,5,6,7]\n",
    "}\n",
    "\n",
    "\n",
    "def dfs(graph, start, goal, path=None, visited=None):\n",
    "    if path is None:\n",
    "        path = []\n",
    "    if visited is None:\n",
    "        visited = set()\n",
    "    \n",
    "    visited.add(start)\n",
    "    path.append(start)\n",
    "    \n",
    "   \n",
    "    if start == goal:\n",
    "        return path\n",
    "    \n",
    "    for neighbor in graph[start]:\n",
    "        if neighbor not in visited:\n",
    "            result = dfs(graph, neighbor, goal, path.copy(), visited)\n",
    "            if result:\n",
    "                return result\n",
    "    \n",
    "    return None\n",
    "\n",
    "start_node = 1\n",
    "goal_node = 8\n",
    "\n",
    "\n",
    "path = dfs(graph, start_node, goal_node)\n",
    "\n",
    "if path:\n",
    "    print(\"Path found:\", path)\n",
    "else:\n",
    "    print(\"No path found.\")\n"
   ]
  },
  {
   "cell_type": "code",
   "execution_count": null,
   "id": "1bf9316f",
   "metadata": {},
   "outputs": [],
   "source": []
  }
 ],
 "metadata": {
  "kernelspec": {
   "display_name": "Python 3 (ipykernel)",
   "language": "python",
   "name": "python3"
  },
  "language_info": {
   "codemirror_mode": {
    "name": "ipython",
    "version": 3
   },
   "file_extension": ".py",
   "mimetype": "text/x-python",
   "name": "python",
   "nbconvert_exporter": "python",
   "pygments_lexer": "ipython3",
   "version": "3.10.12"
  }
 },
 "nbformat": 4,
 "nbformat_minor": 5
}
