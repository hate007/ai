{
 "cells": [
  {
   "cell_type": "code",
   "execution_count": 1,
   "id": "0320f092",
   "metadata": {},
   "outputs": [
    {
     "name": "stdout",
     "output_type": "stream",
     "text": [
      "Path: [1, 2, 4, 5, 7]\n"
     ]
    }
   ],
   "source": [
    "graph = {\n",
    "    1: [2, 3],\n",
    "    2: [4],\n",
    "    3: [2],\n",
    "    4: [5,6],\n",
    "    5: [4, 7],\n",
    "    6: [],\n",
    "    7: [6]\n",
    "}\n",
    "\n",
    "def dfs(graph, start, goal, visited=None):\n",
    "    if visited is None: visited = set()\n",
    "    visited.add(start)\n",
    "    if start == goal: return [start]\n",
    "    for neighbor in graph[start]:\n",
    "        if neighbor not in visited:\n",
    "            path = dfs(graph, neighbor, goal, visited)\n",
    "            if path: return [start] + path\n",
    "    return None\n",
    "\n",
    "path = dfs(graph, 1, 7)\n",
    "print(\"Path:\", path if path else \"No path found.\")\n"
   ]
  }
 ],
 "metadata": {
  "kernelspec": {
   "display_name": "Python 3 (ipykernel)",
   "language": "python",
   "name": "python3"
  },
  "language_info": {
   "codemirror_mode": {
    "name": "ipython",
    "version": 3
   },
   "file_extension": ".py",
   "mimetype": "text/x-python",
   "name": "python",
   "nbconvert_exporter": "python",
   "pygments_lexer": "ipython3",
   "version": "3.10.12"
  }
 },
 "nbformat": 4,
 "nbformat_minor": 5
}
