{
 "cells": [
  {
   "cell_type": "code",
   "execution_count": 3,
   "id": "87cc2f32",
   "metadata": {},
   "outputs": [
    {
     "name": "stdout",
     "output_type": "stream",
     "text": [
      "Goal node G found! Path: A -> C -> G\n"
     ]
    }
   ],
   "source": [
    "def add_edge(graph, u, v):\n",
    "    if u not in graph:\n",
    "        graph[u] = []\n",
    "    graph[u].append(v)\n",
    "\n",
    "\n",
    "def dfs_limit(graph, node, goal, depth, visited, path):\n",
    "    if depth < 0:\n",
    "        return False\n",
    "    path.append(node)\n",
    "    if node == goal:\n",
    "        return True\n",
    "    visited.add(node)\n",
    "    \n",
    "    for neighbor in graph.get(node, []):\n",
    "        if neighbor not in visited:\n",
    "            if dfs_limit(graph, neighbor, goal, depth - 1, visited, path):\n",
    "                return True\n",
    "    path.pop()\n",
    "    return False\n",
    "\n",
    "\n",
    "def iddfs(graph, start, goal):\n",
    "    depth = 0\n",
    "    while True:\n",
    "        visited = set()\n",
    "        path = []\n",
    "        if dfs_limit(graph, start, goal, depth, visited, path):\n",
    "            return path \n",
    "        depth += 1\n",
    "\n",
    "\n",
    "graph = {}\n",
    "add_edge(graph, 'A', 'B')\n",
    "add_edge(graph, 'A', 'C')\n",
    "add_edge(graph, 'B', 'D')\n",
    "add_edge(graph, 'B', 'E')\n",
    "add_edge(graph, 'C', 'F')\n",
    "add_edge(graph, 'C', 'G')\n",
    "add_edge(graph, 'D', 'H')\n",
    "add_edge(graph, 'D', 'I')\n",
    "add_edge(graph, 'F', 'K')\n",
    "\n",
    "\n",
    "start_node = 'A'\n",
    "goal_node = 'G'\n",
    "\n",
    "path = iddfs(graph, start_node, goal_node)\n",
    "if path:\n",
    "    print(f\"Goal node {goal_node} found! Path: {' -> '.join(path)}\")\n",
    "else:\n",
    "    print(f\"Goal node {goal_node} not found!\")\n"
   ]
  },
  {
   "cell_type": "code",
   "execution_count": null,
   "id": "d0fd52e1",
   "metadata": {},
   "outputs": [],
   "source": []
  }
 ],
 "metadata": {
  "kernelspec": {
   "display_name": "Python 3 (ipykernel)",
   "language": "python",
   "name": "python3"
  },
  "language_info": {
   "codemirror_mode": {
    "name": "ipython",
    "version": 3
   },
   "file_extension": ".py",
   "mimetype": "text/x-python",
   "name": "python",
   "nbconvert_exporter": "python",
   "pygments_lexer": "ipython3",
   "version": "3.10.12"
  }
 },
 "nbformat": 4,
 "nbformat_minor": 5
}
