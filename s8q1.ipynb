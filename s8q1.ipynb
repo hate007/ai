{
 "cells": [
  {
   "cell_type": "code",
   "execution_count": 1,
   "id": "355c4f9a",
   "metadata": {},
   "outputs": [
    {
     "name": "stdout",
     "output_type": "stream",
     "text": [
      "Enter a string: HellO\n",
      "Uppercase letters: 2\n",
      "Lowercase letters: 3\n"
     ]
    }
   ],
   "source": [
    "def count_case(s):\n",
    "    upper_count = 0\n",
    "    lower_count = 0\n",
    "    for char in s:\n",
    "        if char.isupper():\n",
    "            upper_count += 1\n",
    "        elif char.islower():\n",
    "            lower_count += 1\n",
    "    return upper_count, lower_count\n",
    "\n",
    "# Input string\n",
    "input_string = input(\"Enter a string: \")\n",
    "\n",
    "# Count uppercase and lowercase letters\n",
    "upper, lower = count_case(input_string)\n",
    "\n",
    "# Output the result\n",
    "print(f\"Uppercase letters: {upper}\")\n",
    "print(f\"Lowercase letters: {lower}\")\n"
   ]
  },
  {
   "cell_type": "code",
   "execution_count": null,
   "id": "d657002c",
   "metadata": {},
   "outputs": [],
   "source": []
  }
 ],
 "metadata": {
  "kernelspec": {
   "display_name": "Python 3 (ipykernel)",
   "language": "python",
   "name": "python3"
  },
  "language_info": {
   "codemirror_mode": {
    "name": "ipython",
    "version": 3
   },
   "file_extension": ".py",
   "mimetype": "text/x-python",
   "name": "python",
   "nbconvert_exporter": "python",
   "pygments_lexer": "ipython3",
   "version": "3.10.12"
  }
 },
 "nbformat": 4,
 "nbformat_minor": 5
}
