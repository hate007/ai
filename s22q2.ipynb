{
 "cells": [
  {
   "cell_type": "code",
   "execution_count": 3,
   "id": "6c88980f",
   "metadata": {},
   "outputs": [
    {
     "name": "stdout",
     "output_type": "stream",
     "text": [
      "Chatbot: Hello! Type 'bye' to exit.\n",
      "You: hello\n",
      "Chatbot: Hey! How can I help you?\n",
      "You: bye\n",
      "Chatbot: Goodbye!\n"
     ]
    }
   ],
   "source": [
    "\n",
    "import random\n",
    "\n",
    "responses = {\n",
    "    \"hello\": [\"Hi there!\", \"Hello!\", \"Hey! How can I help you?\"],\n",
    "    \"how are you\": [\"I'm good, thank you!\", \"I'm doing well, how about you?\", \"I'm great! How are you?\"],\n",
    "    \"bye\": [\"Goodbye!\", \"See you later!\", \"Bye, have a nice day!\"],\n",
    "    \"default\": [\"I'm sorry, I didn't understand that.\", \"Could you please rephrase?\", \"Sorry, I don't know how to respond to that.\"]\n",
    "}\n",
    "\n",
    "def get_response(user_input):\n",
    "    user_input = user_input.lower()\n",
    "    for key in responses:\n",
    "        if key in user_input:\n",
    "            return random.choice(responses[key])\n",
    "    return random.choice(responses[\"default\"])\n",
    "\n",
    "def chatbot():\n",
    "    print(\"Chatbot: Hello! Type 'bye' to exit.\")\n",
    "    while True:\n",
    "        user_input = input(\"You: \")\n",
    "        if user_input.lower() == \"bye\":\n",
    "            print(\"Chatbot: Goodbye!\")\n",
    "            break\n",
    "        response = get_response(user_input)\n",
    "        print(f\"Chatbot: {response}\")\n",
    "\n",
    "if __name__ == \"__main__\":\n",
    "    chatbot()\n"
   ]
  },
  {
   "cell_type": "code",
   "execution_count": null,
   "id": "8ecac754",
   "metadata": {},
   "outputs": [],
   "source": []
  }
 ],
 "metadata": {
  "kernelspec": {
   "display_name": "Python 3 (ipykernel)",
   "language": "python",
   "name": "python3"
  },
  "language_info": {
   "codemirror_mode": {
    "name": "ipython",
    "version": 3
   },
   "file_extension": ".py",
   "mimetype": "text/x-python",
   "name": "python",
   "nbconvert_exporter": "python",
   "pygments_lexer": "ipython3",
   "version": "3.10.12"
  }
 },
 "nbformat": 4,
 "nbformat_minor": 5
}
