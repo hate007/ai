{
 "cells": [
  {
   "cell_type": "code",
   "execution_count": null,
   "id": "1b9e9dbe",
   "metadata": {},
   "outputs": [
    {
     "name": "stdout",
     "output_type": "stream",
     "text": [
      "  |   |  \n",
      "-----\n",
      "  |   |  \n",
      "-----\n",
      "  |   |  \n",
      "-----\n",
      "Player X's turn. Enter row and column (0-2): 0 2\n",
      "  |   | X\n",
      "-----\n",
      "  |   |  \n",
      "-----\n",
      "  |   |  \n",
      "-----\n",
      "Player O's turn. Enter row and column (0-2): 0 1\n",
      "  | O | X\n",
      "-----\n",
      "  |   |  \n",
      "-----\n",
      "  |   |  \n",
      "-----\n"
     ]
    }
   ],
   "source": [
    "# Function to print the board\n",
    "def print_board(board):\n",
    "    for row in board:\n",
    "        print(\" | \".join(row))\n",
    "        print(\"-\" * 5)\n",
    "\n",
    "# Function to check for winner\n",
    "def check_winner(board):\n",
    "    # Check rows and columns\n",
    "    for i in range(3):\n",
    "        if board[i][0] == board[i][1] == board[i][2] != \" \":\n",
    "            return board[i][0]\n",
    "        if board[0][i] == board[1][i] == board[2][i] != \" \":\n",
    "            return board[0][i]\n",
    "    # Check diagonals\n",
    "    if board[0][0] == board[1][1] == board[2][2] != \" \":\n",
    "        return board[0][0]\n",
    "    if board[0][2] == board[1][1] == board[2][0] != \" \":\n",
    "        return board[0][2]\n",
    "    # Check if the board is full (draw)\n",
    "    if all(board[i][j] != \" \" for i in range(3) for j in range(3)):\n",
    "        return \"D\"  # Draw\n",
    "    return None\n",
    "\n",
    "# Function to check if move is valid\n",
    "def is_valid_move(board, row, col):\n",
    "    return 0 <= row < 3 and 0 <= col < 3 and board[row][col] == \" \"\n",
    "\n",
    "# Main function to play the game\n",
    "def play_game():\n",
    "    board = [[\" \" for _ in range(3)] for _ in range(3)]  # Initialize the board\n",
    "    current_player = \"X\"\n",
    "    while True:\n",
    "        print_board(board)\n",
    "        try:\n",
    "            row, col = map(int, input(f\"Player {current_player}'s turn. Enter row and column (0-2): \").split())\n",
    "        except ValueError:\n",
    "            print(\"Invalid input. Please enter two numbers.\")\n",
    "            continue\n",
    "\n",
    "        if is_valid_move(board, row, col):\n",
    "            board[row][col] = current_player\n",
    "        else:\n",
    "            print(\"Invalid move. Try again.\")\n",
    "            continue\n",
    "\n",
    "        winner = check_winner(board)\n",
    "        if winner:\n",
    "            print_board(board)\n",
    "            if winner == \"D\":\n",
    "                print(\"It's a draw!\")\n",
    "            else:\n",
    "                print(f\"Player {winner} wins!\")\n",
    "            break\n",
    "\n",
    "        current_player = \"O\" if current_player == \"X\" else \"X\"  # Switch player\n",
    "\n",
    "if __name__ == \"__main__\":\n",
    "    play_game()\n"
   ]
  },
  {
   "cell_type": "code",
   "execution_count": null,
   "id": "80710634",
   "metadata": {},
   "outputs": [],
   "source": []
  }
 ],
 "metadata": {
  "kernelspec": {
   "display_name": "Python 3 (ipykernel)",
   "language": "python",
   "name": "python3"
  },
  "language_info": {
   "codemirror_mode": {
    "name": "ipython",
    "version": 3
   },
   "file_extension": ".py",
   "mimetype": "text/x-python",
   "name": "python",
   "nbconvert_exporter": "python",
   "pygments_lexer": "ipython3",
   "version": "3.10.12"
  }
 },
 "nbformat": 4,
 "nbformat_minor": 5
}
